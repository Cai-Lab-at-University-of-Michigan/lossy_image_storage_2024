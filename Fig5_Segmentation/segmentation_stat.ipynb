{
 "cells": [
  {
   "cell_type": "code",
   "execution_count": 1,
   "id": "6991bc52-3743-4334-99f8-4dd009ce7980",
   "metadata": {},
   "outputs": [],
   "source": [
    "import matplotlib.pyplot as plt\n",
    "import matplotlib.collections as clt\n",
    "import matplotlib\n",
    "import numpy as np\n",
    "import pandas as pd\n",
    "import seaborn as sns\n",
    "from tifffile import imread\n",
    "\n",
    "from skimage.measure import label, regionprops\n",
    "import pickle\n",
    "from scipy.spatial.distance import cdist\n",
    "from tqdm.notebook import tqdm"
   ]
  },
  {
   "cell_type": "code",
   "execution_count": 2,
   "id": "de6d35a9-ae89-4e44-8f9d-e939e3a6c758",
   "metadata": {},
   "outputs": [],
   "source": [
    "data_path = '/data/duanb/results/segmentation/NeuN/TheFirstnnUNet/'"
   ]
  },
  {
   "cell_type": "code",
   "execution_count": 3,
   "id": "845923db-638e-4547-bdc9-8c7d8b30cf0c",
   "metadata": {},
   "outputs": [],
   "source": [
    "datasets = ['20210929_HDCF_R56-8_fibers_6-11_hiRes_NeuN_histMatched_medFilt']"
   ]
  },
  {
   "cell_type": "code",
   "execution_count": 4,
   "id": "38d926d1-6fa5-45e5-a6a6-2cdaf7b01965",
   "metadata": {},
   "outputs": [],
   "source": [
    "samples = {\n",
    "    'raw': imread(f'{data_path}{datasets[0]}.tif'),\n",
    "    '10': imread(f'{data_path}10/{datasets[0]}.tif'),\n",
    "    '30': imread(f'{data_path}30/{datasets[0]}.tif'),\n",
    "    '50': imread(f'{data_path}50/{datasets[0]}.tif'),\n",
    "    '100': imread(f'{data_path}100/{datasets[0]}.tif'),\n",
    "    '400': imread(f'{data_path}400/{datasets[0]}.tif'),\n",
    "}"
   ]
  },
  {
   "cell_type": "code",
   "execution_count": 5,
   "id": "4f5c1972-3746-477c-967f-1634c35ef7fc",
   "metadata": {},
   "outputs": [],
   "source": [
    "def stat_results(seg, ref):\n",
    "    seg = label(seg)\n",
    "    ref = label(ref)\n",
    "    \n",
    "    props = regionprops(seg)\n",
    "    ref_props = regionprops(ref)\n",
    "    \n",
    "    centriods = np.array([np.array(p.centroid) for p in props])\n",
    "    ref_centriods = np.array([np.array(p.centroid) for p in ref_props])\n",
    "\n",
    "    dists = cdist(centriods, ref_centriods)\n",
    "    \n",
    "    ids = np.argmin(dists, axis=-1)\n",
    "\n",
    "    area = np.array([props[i].area - ref_props[idx].area for i, idx in zip(range(len(ids)), ids)])\n",
    "    centroid = np.array([np.array(props[i].centroid) - np.array(ref_props[idx].centroid) for i, idx in zip(range(len(ids)), ids)])\n",
    "    diameter = np.array([props[i].equivalent_diameter_area - ref_props[idx].equivalent_diameter_area for i, idx in zip(range(len(ids)), ids)])\n",
    "\n",
    "    return np.array([dists[i, idx] for i, idx in zip(range(len(ids)), ids)]), area, centroid, diameter\n",
    "    # return area, centroid, diameter"
   ]
  },
  {
   "cell_type": "code",
   "execution_count": 6,
   "id": "74c69c8b-4de5-4f46-bd8c-9ed68f5c850a",
   "metadata": {},
   "outputs": [],
   "source": [
    "def find_most_overlapped(ref, seg, ref_props, props):\n",
    "    matched = []\n",
    "    no_match = []\n",
    "    for i in tqdm(range(1, len(ref_props)+1)):\n",
    "        vals, counts = np.unique(seg[ref==i].flatten(), return_counts=True)\n",
    "        m = counts.argmax()\n",
    "        if vals[m] == 0:\n",
    "            no_match.append(i - 1)\n",
    "        else:\n",
    "            # remove outlier\n",
    "            dist = np.array(np.array(ref_props[i - 1].centroid) - np.array(props[vals[m] - 1].centroid))\n",
    "            dist = np.power(np.sum(dist ** 2), 0.5)\n",
    "            if dist <= 10:\n",
    "                matched.append((i - 1, vals[m] - 1))\n",
    "            else:\n",
    "                no_match.append(i - 1)\n",
    "\n",
    "    return matched, no_match"
   ]
  },
  {
   "cell_type": "code",
   "execution_count": 7,
   "id": "4b9e41d4-5ff9-4a2d-8a43-54224aa81cd9",
   "metadata": {},
   "outputs": [],
   "source": [
    "def stat_resultsV2(seg, ref):\n",
    "    # TP, FP, FN\n",
    "    seg = label(seg)\n",
    "    ref = label(ref)\n",
    "    \n",
    "    props = regionprops(seg)\n",
    "    ref_props = regionprops(ref)\n",
    "\n",
    "    # find pairs of segmentation id\n",
    "    ref_matched, ref_no_match = find_most_overlapped(ref, seg, ref_props, props)\n",
    "    seg_matched, seg_no_match = find_most_overlapped(seg, ref, props, ref_props)\n",
    "\n",
    "    print(len(ref_matched), len(ref_no_match), len(seg_matched), len(seg_no_match))\n",
    "    \n",
    "    centriods = np.array([np.array(p.centroid) for p in props])\n",
    "    ref_centriods = np.array([np.array(p.centroid) for p in ref_props])\n",
    "\n",
    "    dists = cdist(ref_centriods, centriods)\n",
    "\n",
    "    return {'TP': {'dists': [dists[r, s] for r, s in ref_matched], \n",
    "                   'centroid': np.array([np.array(ref_props[r].centroid) - np.array(props[s].centroid) for r, s in ref_matched])}, \n",
    "            'FN': {'area': np.array([ref_props[r].area for r in ref_no_match]),\n",
    "                   'rate': len(ref_no_match)/(len(ref_matched) + len(ref_no_match))},\n",
    "            'FP': {'area': np.array([props[s].area for s in seg_no_match]),\n",
    "                   'rate': len(seg_no_match)/(len(seg_matched) + len(seg_no_match))}\n",
    "           }\n"
   ]
  },
  {
   "cell_type": "code",
   "execution_count": null,
   "id": "ad1a15ea-288d-40ae-9998-dfe22be1cc71",
   "metadata": {},
   "outputs": [],
   "source": [
    "def stat_resultsV3(seg, ref):\n",
    "    # TP, FP, FN\n",
    "    seg = label(seg)\n",
    "    ref = label(ref)\n",
    "    \n",
    "    props = regionprops(seg)\n",
    "    ref_props = regionprops(ref)\n",
    "\n",
    "    # find pairs of segmentation id\n",
    "    ref_matched, ref_no_match = find_most_overlapped(ref, seg, ref_props, props)\n",
    "    seg_matched, seg_no_match = find_most_overlapped(seg, ref, props, ref_props)\n",
    "\n",
    "    print(len(ref_matched), len(ref_no_match), len(seg_matched), len(seg_no_match))\n",
    "    \n",
    "    centriods = np.array([np.array(p.centroid) for p in props])\n",
    "    ref_centriods = np.array([np.array(p.centroid) for p in ref_props])\n",
    "\n",
    "    dists = cdist(ref_centriods, centriods)\n",
    "\n",
    "    return {\n",
    "            'FN': {'num_pixels': np.array([ref_props[r].num_pixels for r in ref_no_match]),\n",
    "                   'rate': len(ref_no_match)/(len(ref_matched) + len(ref_no_match))},\n",
    "            'FP': {'num_pixels': np.array([props[s].num_pixels for s in seg_no_match]),\n",
    "                   'rate': len(seg_no_match)/(len(seg_matched) + len(seg_no_match))},\n",
    "            'TP': {'dists': [dists[r, s] for r, s in ref_matched], \n",
    "                   'centroid': np.array([np.array(ref_props[r].centroid) - np.array(props[s].centroid) for r, s in ref_matched]),\n",
    "                   'num_pixels': np.array([ref_props[r].num_pixels for r, _ in ref_matched])}\n",
    "           }"
   ]
  },
  {
   "cell_type": "code",
   "execution_count": null,
   "id": "5bc36bf8-18ba-4467-98f7-e4e8099d6a35",
   "metadata": {},
   "outputs": [],
   "source": [
    "for k in samples.keys():\n",
    "    if k == 'raw':\n",
    "        continue\n",
    "    else:\n",
    "        res = stat_resultsV3(samples[k], samples['raw'])\n",
    "        with open(f'{datasets[0]}_cs{k}.pkl', 'wb') as fp:\n",
    "            pickle.dump(res, fp)"
   ]
  },
  {
   "cell_type": "code",
   "execution_count": null,
   "id": "997a6307-43c7-4328-afcc-96b667ae700f",
   "metadata": {},
   "outputs": [],
   "source": []
  }
 ],
 "metadata": {
  "kernelspec": {
   "display_name": "Python 3 (ipykernel)",
   "language": "python",
   "name": "python3"
  },
  "language_info": {
   "codemirror_mode": {
    "name": "ipython",
    "version": 3
   },
   "file_extension": ".py",
   "mimetype": "text/x-python",
   "name": "python",
   "nbconvert_exporter": "python",
   "pygments_lexer": "ipython3",
   "version": "3.11.3"
  }
 },
 "nbformat": 4,
 "nbformat_minor": 5
}
